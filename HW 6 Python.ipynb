{
 "cells": [
  {
   "cell_type": "code",
   "execution_count": null,
   "metadata": {},
   "outputs": [],
   "source": [
    "# Python homework 6 #nikita the BEST OG"
   ]
  },
  {
   "cell_type": "code",
   "execution_count": 2,
   "metadata": {},
   "outputs": [],
   "source": [
    "import pandas as pd\n",
    "import numpy as np\n",
    "import matplotlib.pyplot as plt\n",
    "import seaborn as sns\n",
    "\n",
    "%matplotlib inline"
   ]
  },
  {
   "cell_type": "code",
   "execution_count": 3,
   "metadata": {},
   "outputs": [
    {
     "name": "stdout",
     "output_type": "stream",
     "text": [
      "                                  Film    Genre            Lead Studio   \n",
      "0           Zack and Miri Make a Porno  Romance  The Weinstein Company  \\\n",
      "1                      Youth in Revolt   Comedy  The Weinstein Company   \n",
      "2   You Will Meet a Tall Dark Stranger   Comedy            Independent   \n",
      "3                         When in Rome   Comedy                 Disney   \n",
      "4                What Happens in Vegas   Comedy                    Fox   \n",
      "..                                 ...      ...                    ...   \n",
      "72                 Across the Universe  romance            Independent   \n",
      "73                       A Serious Man    Drama              Universal   \n",
      "74                  A Dangerous Method    Drama            Independent   \n",
      "75                          27 Dresses   Comedy                    Fox   \n",
      "76                (500) Days of Summer   comedy                    Fox   \n",
      "\n",
      "    Audience score %  Profitability  Rotten Tomatoes % Worldwide Gross  Year  \n",
      "0                 70       1.747542                 64         $41.94   2008  \n",
      "1                 52       1.090000                 68         $19.62   2010  \n",
      "2                 35       1.211818                 43         $26.66   2010  \n",
      "3                 44       0.000000                 15         $43.04   2010  \n",
      "4                 72       6.267647                 28        $219.37   2008  \n",
      "..               ...            ...                ...             ...   ...  \n",
      "72                84       0.652603                 54         $29.37   2007  \n",
      "73                64       4.382857                 89         $30.68   2009  \n",
      "74                89       0.448645                 79          $8.97   2011  \n",
      "75                71       5.343622                 40        $160.31   2008  \n",
      "76                81       8.096000                 87         $60.72   2009  \n",
      "\n",
      "[77 rows x 8 columns]\n"
     ]
    }
   ],
   "source": [
    "# 2. Загрузите набор данных фильмов в pandas.\n",
    "\n",
    "movies = pd.read_csv(r'C:\\Users\\Asus\\Desktop\\PYTHON\\movies.csv')\n",
    "print(movies)"
   ]
  },
  {
   "cell_type": "code",
   "execution_count": null,
   "metadata": {},
   "outputs": [],
   "source": [
    "# 3. Перечислите все столбцы набора данных и изучите их типы. Изучите статистику\n",
    "# по различным областям. Опишите, какие данные у нас есть.\n",
    "\n",
    "\n",
    "# Завдяки запитам нижче, ми можеме побачити багато інформації, щодо цього дата-сету! \n",
    "# Скільки ми маємо колонок, рядків, які типи данних мають колонки, чи є в таблиці нулі, як виглядають данні про специфічний\n",
    "# фільм і багато іншого!\n",
    "\n"
   ]
  },
  {
   "cell_type": "code",
   "execution_count": 28,
   "metadata": {},
   "outputs": [
    {
     "data": {
      "text/html": [
       "<div>\n",
       "<style scoped>\n",
       "    .dataframe tbody tr th:only-of-type {\n",
       "        vertical-align: middle;\n",
       "    }\n",
       "\n",
       "    .dataframe tbody tr th {\n",
       "        vertical-align: top;\n",
       "    }\n",
       "\n",
       "    .dataframe thead th {\n",
       "        text-align: right;\n",
       "    }\n",
       "</style>\n",
       "<table border=\"1\" class=\"dataframe\">\n",
       "  <thead>\n",
       "    <tr style=\"text-align: right;\">\n",
       "      <th></th>\n",
       "      <th>Film</th>\n",
       "      <th>Genre</th>\n",
       "      <th>Lead Studio</th>\n",
       "      <th>Audience score %</th>\n",
       "      <th>Profitability</th>\n",
       "      <th>Rotten Tomatoes %</th>\n",
       "      <th>Worldwide Gross</th>\n",
       "      <th>Year</th>\n",
       "    </tr>\n",
       "  </thead>\n",
       "  <tbody>\n",
       "    <tr>\n",
       "      <th>0</th>\n",
       "      <td>Zack and Miri Make a Porno</td>\n",
       "      <td>Romance</td>\n",
       "      <td>The Weinstein Company</td>\n",
       "      <td>70</td>\n",
       "      <td>1.747542</td>\n",
       "      <td>64</td>\n",
       "      <td>$41.94</td>\n",
       "      <td>2008</td>\n",
       "    </tr>\n",
       "    <tr>\n",
       "      <th>1</th>\n",
       "      <td>Youth in Revolt</td>\n",
       "      <td>Comedy</td>\n",
       "      <td>The Weinstein Company</td>\n",
       "      <td>52</td>\n",
       "      <td>1.090000</td>\n",
       "      <td>68</td>\n",
       "      <td>$19.62</td>\n",
       "      <td>2010</td>\n",
       "    </tr>\n",
       "  </tbody>\n",
       "</table>\n",
       "</div>"
      ],
      "text/plain": [
       "                         Film    Genre            Lead Studio   \n",
       "0  Zack and Miri Make a Porno  Romance  The Weinstein Company  \\\n",
       "1             Youth in Revolt   Comedy  The Weinstein Company   \n",
       "\n",
       "   Audience score %  Profitability  Rotten Tomatoes % Worldwide Gross  Year  \n",
       "0                70       1.747542                 64         $41.94   2008  \n",
       "1                52       1.090000                 68         $19.62   2010  "
      ]
     },
     "execution_count": 28,
     "metadata": {},
     "output_type": "execute_result"
    }
   ],
   "source": [
    "movies.head(2)"
   ]
  },
  {
   "cell_type": "code",
   "execution_count": 29,
   "metadata": {},
   "outputs": [
    {
     "name": "stdout",
     "output_type": "stream",
     "text": [
      "<class 'pandas.core.frame.DataFrame'>\n",
      "RangeIndex: 77 entries, 0 to 76\n",
      "Data columns (total 8 columns):\n",
      " #   Column             Non-Null Count  Dtype  \n",
      "---  ------             --------------  -----  \n",
      " 0   Film               77 non-null     object \n",
      " 1   Genre              77 non-null     object \n",
      " 2   Lead Studio        77 non-null     object \n",
      " 3   Audience score %   77 non-null     int64  \n",
      " 4   Profitability      77 non-null     float64\n",
      " 5   Rotten Tomatoes %  77 non-null     int64  \n",
      " 6   Worldwide Gross    77 non-null     object \n",
      " 7   Year               77 non-null     int64  \n",
      "dtypes: float64(1), int64(3), object(4)\n",
      "memory usage: 4.9+ KB\n"
     ]
    }
   ],
   "source": [
    "movies.info()"
   ]
  },
  {
   "cell_type": "code",
   "execution_count": 30,
   "metadata": {},
   "outputs": [
    {
     "data": {
      "text/plain": [
       "(77, 8)"
      ]
     },
     "execution_count": 30,
     "metadata": {},
     "output_type": "execute_result"
    }
   ],
   "source": [
    "movies.shape"
   ]
  },
  {
   "cell_type": "code",
   "execution_count": 16,
   "metadata": {},
   "outputs": [
    {
     "data": {
      "text/html": [
       "<div>\n",
       "<style scoped>\n",
       "    .dataframe tbody tr th:only-of-type {\n",
       "        vertical-align: middle;\n",
       "    }\n",
       "\n",
       "    .dataframe tbody tr th {\n",
       "        vertical-align: top;\n",
       "    }\n",
       "\n",
       "    .dataframe thead th {\n",
       "        text-align: right;\n",
       "    }\n",
       "</style>\n",
       "<table border=\"1\" class=\"dataframe\">\n",
       "  <thead>\n",
       "    <tr style=\"text-align: right;\">\n",
       "      <th></th>\n",
       "      <th>Audience score %</th>\n",
       "      <th>Profitability</th>\n",
       "      <th>Rotten Tomatoes %</th>\n",
       "      <th>Year</th>\n",
       "    </tr>\n",
       "  </thead>\n",
       "  <tbody>\n",
       "    <tr>\n",
       "      <th>count</th>\n",
       "      <td>77.000000</td>\n",
       "      <td>77.000000</td>\n",
       "      <td>77.000000</td>\n",
       "      <td>77.000000</td>\n",
       "    </tr>\n",
       "    <tr>\n",
       "      <th>mean</th>\n",
       "      <td>63.727273</td>\n",
       "      <td>4.599483</td>\n",
       "      <td>46.701299</td>\n",
       "      <td>2009.077922</td>\n",
       "    </tr>\n",
       "    <tr>\n",
       "      <th>std</th>\n",
       "      <td>13.657113</td>\n",
       "      <td>8.031990</td>\n",
       "      <td>26.095001</td>\n",
       "      <td>1.354974</td>\n",
       "    </tr>\n",
       "    <tr>\n",
       "      <th>min</th>\n",
       "      <td>35.000000</td>\n",
       "      <td>0.000000</td>\n",
       "      <td>3.000000</td>\n",
       "      <td>2007.000000</td>\n",
       "    </tr>\n",
       "    <tr>\n",
       "      <th>25%</th>\n",
       "      <td>52.000000</td>\n",
       "      <td>1.751351</td>\n",
       "      <td>26.000000</td>\n",
       "      <td>2008.000000</td>\n",
       "    </tr>\n",
       "    <tr>\n",
       "      <th>50%</th>\n",
       "      <td>64.000000</td>\n",
       "      <td>2.642353</td>\n",
       "      <td>45.000000</td>\n",
       "      <td>2009.000000</td>\n",
       "    </tr>\n",
       "    <tr>\n",
       "      <th>75%</th>\n",
       "      <td>76.000000</td>\n",
       "      <td>5.103117</td>\n",
       "      <td>64.000000</td>\n",
       "      <td>2010.000000</td>\n",
       "    </tr>\n",
       "    <tr>\n",
       "      <th>max</th>\n",
       "      <td>89.000000</td>\n",
       "      <td>66.934000</td>\n",
       "      <td>96.000000</td>\n",
       "      <td>2011.000000</td>\n",
       "    </tr>\n",
       "  </tbody>\n",
       "</table>\n",
       "</div>"
      ],
      "text/plain": [
       "       Audience score %  Profitability  Rotten Tomatoes %         Year\n",
       "count         77.000000      77.000000          77.000000    77.000000\n",
       "mean          63.727273       4.599483          46.701299  2009.077922\n",
       "std           13.657113       8.031990          26.095001     1.354974\n",
       "min           35.000000       0.000000           3.000000  2007.000000\n",
       "25%           52.000000       1.751351          26.000000  2008.000000\n",
       "50%           64.000000       2.642353          45.000000  2009.000000\n",
       "75%           76.000000       5.103117          64.000000  2010.000000\n",
       "max           89.000000      66.934000          96.000000  2011.000000"
      ]
     },
     "execution_count": 16,
     "metadata": {},
     "output_type": "execute_result"
    }
   ],
   "source": [
    "movies.describe()"
   ]
  },
  {
   "cell_type": "code",
   "execution_count": 17,
   "metadata": {},
   "outputs": [
    {
     "data": {
      "text/plain": [
       "Index(['Film', 'Genre', 'Lead Studio', 'Audience score %', 'Profitability',\n",
       "       'Rotten Tomatoes %', 'Worldwide Gross', 'Year'],\n",
       "      dtype='object')"
      ]
     },
     "execution_count": 17,
     "metadata": {},
     "output_type": "execute_result"
    }
   ],
   "source": [
    "movies.columns"
   ]
  },
  {
   "cell_type": "code",
   "execution_count": 31,
   "metadata": {},
   "outputs": [
    {
     "data": {
      "text/plain": [
       "Film                 0\n",
       "Genre                0\n",
       "Lead Studio          0\n",
       "Audience score %     0\n",
       "Profitability        0\n",
       "Rotten Tomatoes %    0\n",
       "Worldwide Gross      0\n",
       "Year                 0\n",
       "dtype: int64"
      ]
     },
     "execution_count": 31,
     "metadata": {},
     "output_type": "execute_result"
    }
   ],
   "source": [
    "#в нашому дата-сеті немає жодних пустих значень\n",
    "\n",
    "movies.isnull().sum()"
   ]
  },
  {
   "cell_type": "code",
   "execution_count": 19,
   "metadata": {},
   "outputs": [
    {
     "data": {
      "text/html": [
       "<div>\n",
       "<style scoped>\n",
       "    .dataframe tbody tr th:only-of-type {\n",
       "        vertical-align: middle;\n",
       "    }\n",
       "\n",
       "    .dataframe tbody tr th {\n",
       "        vertical-align: top;\n",
       "    }\n",
       "\n",
       "    .dataframe thead th {\n",
       "        text-align: right;\n",
       "    }\n",
       "</style>\n",
       "<table border=\"1\" class=\"dataframe\">\n",
       "  <thead>\n",
       "    <tr style=\"text-align: right;\">\n",
       "      <th></th>\n",
       "      <th>Film</th>\n",
       "      <th>Genre</th>\n",
       "      <th>Lead Studio</th>\n",
       "      <th>Audience score %</th>\n",
       "      <th>Profitability</th>\n",
       "      <th>Rotten Tomatoes %</th>\n",
       "      <th>Worldwide Gross</th>\n",
       "      <th>Year</th>\n",
       "    </tr>\n",
       "  </thead>\n",
       "  <tbody>\n",
       "    <tr>\n",
       "      <th>0</th>\n",
       "      <td>False</td>\n",
       "      <td>False</td>\n",
       "      <td>False</td>\n",
       "      <td>False</td>\n",
       "      <td>False</td>\n",
       "      <td>False</td>\n",
       "      <td>False</td>\n",
       "      <td>False</td>\n",
       "    </tr>\n",
       "    <tr>\n",
       "      <th>1</th>\n",
       "      <td>False</td>\n",
       "      <td>False</td>\n",
       "      <td>False</td>\n",
       "      <td>False</td>\n",
       "      <td>False</td>\n",
       "      <td>False</td>\n",
       "      <td>False</td>\n",
       "      <td>False</td>\n",
       "    </tr>\n",
       "    <tr>\n",
       "      <th>2</th>\n",
       "      <td>False</td>\n",
       "      <td>False</td>\n",
       "      <td>False</td>\n",
       "      <td>False</td>\n",
       "      <td>False</td>\n",
       "      <td>False</td>\n",
       "      <td>False</td>\n",
       "      <td>False</td>\n",
       "    </tr>\n",
       "    <tr>\n",
       "      <th>3</th>\n",
       "      <td>False</td>\n",
       "      <td>False</td>\n",
       "      <td>False</td>\n",
       "      <td>False</td>\n",
       "      <td>False</td>\n",
       "      <td>False</td>\n",
       "      <td>False</td>\n",
       "      <td>False</td>\n",
       "    </tr>\n",
       "    <tr>\n",
       "      <th>4</th>\n",
       "      <td>False</td>\n",
       "      <td>False</td>\n",
       "      <td>False</td>\n",
       "      <td>False</td>\n",
       "      <td>False</td>\n",
       "      <td>False</td>\n",
       "      <td>False</td>\n",
       "      <td>False</td>\n",
       "    </tr>\n",
       "    <tr>\n",
       "      <th>...</th>\n",
       "      <td>...</td>\n",
       "      <td>...</td>\n",
       "      <td>...</td>\n",
       "      <td>...</td>\n",
       "      <td>...</td>\n",
       "      <td>...</td>\n",
       "      <td>...</td>\n",
       "      <td>...</td>\n",
       "    </tr>\n",
       "    <tr>\n",
       "      <th>72</th>\n",
       "      <td>False</td>\n",
       "      <td>False</td>\n",
       "      <td>False</td>\n",
       "      <td>False</td>\n",
       "      <td>False</td>\n",
       "      <td>False</td>\n",
       "      <td>False</td>\n",
       "      <td>False</td>\n",
       "    </tr>\n",
       "    <tr>\n",
       "      <th>73</th>\n",
       "      <td>False</td>\n",
       "      <td>False</td>\n",
       "      <td>False</td>\n",
       "      <td>False</td>\n",
       "      <td>False</td>\n",
       "      <td>False</td>\n",
       "      <td>False</td>\n",
       "      <td>False</td>\n",
       "    </tr>\n",
       "    <tr>\n",
       "      <th>74</th>\n",
       "      <td>False</td>\n",
       "      <td>False</td>\n",
       "      <td>False</td>\n",
       "      <td>False</td>\n",
       "      <td>False</td>\n",
       "      <td>False</td>\n",
       "      <td>False</td>\n",
       "      <td>False</td>\n",
       "    </tr>\n",
       "    <tr>\n",
       "      <th>75</th>\n",
       "      <td>False</td>\n",
       "      <td>False</td>\n",
       "      <td>False</td>\n",
       "      <td>False</td>\n",
       "      <td>False</td>\n",
       "      <td>False</td>\n",
       "      <td>False</td>\n",
       "      <td>False</td>\n",
       "    </tr>\n",
       "    <tr>\n",
       "      <th>76</th>\n",
       "      <td>False</td>\n",
       "      <td>False</td>\n",
       "      <td>False</td>\n",
       "      <td>False</td>\n",
       "      <td>False</td>\n",
       "      <td>False</td>\n",
       "      <td>False</td>\n",
       "      <td>False</td>\n",
       "    </tr>\n",
       "  </tbody>\n",
       "</table>\n",
       "<p>77 rows × 8 columns</p>\n",
       "</div>"
      ],
      "text/plain": [
       "     Film  Genre  Lead Studio  Audience score %  Profitability   \n",
       "0   False  False        False             False          False  \\\n",
       "1   False  False        False             False          False   \n",
       "2   False  False        False             False          False   \n",
       "3   False  False        False             False          False   \n",
       "4   False  False        False             False          False   \n",
       "..    ...    ...          ...               ...            ...   \n",
       "72  False  False        False             False          False   \n",
       "73  False  False        False             False          False   \n",
       "74  False  False        False             False          False   \n",
       "75  False  False        False             False          False   \n",
       "76  False  False        False             False          False   \n",
       "\n",
       "    Rotten Tomatoes %  Worldwide Gross   Year  \n",
       "0               False            False  False  \n",
       "1               False            False  False  \n",
       "2               False            False  False  \n",
       "3               False            False  False  \n",
       "4               False            False  False  \n",
       "..                ...              ...    ...  \n",
       "72              False            False  False  \n",
       "73              False            False  False  \n",
       "74              False            False  False  \n",
       "75              False            False  False  \n",
       "76              False            False  False  \n",
       "\n",
       "[77 rows x 8 columns]"
      ]
     },
     "execution_count": 19,
     "metadata": {},
     "output_type": "execute_result"
    }
   ],
   "source": [
    "movies.isnull()"
   ]
  },
  {
   "cell_type": "code",
   "execution_count": 32,
   "metadata": {},
   "outputs": [
    {
     "data": {
      "text/plain": [
       "<bound method NDFrame.tail of                                   Film    Genre            Lead Studio   \n",
       "0           Zack and Miri Make a Porno  Romance  The Weinstein Company  \\\n",
       "1                      Youth in Revolt   Comedy  The Weinstein Company   \n",
       "2   You Will Meet a Tall Dark Stranger   Comedy            Independent   \n",
       "3                         When in Rome   Comedy                 Disney   \n",
       "4                What Happens in Vegas   Comedy                    Fox   \n",
       "..                                 ...      ...                    ...   \n",
       "72                 Across the Universe  romance            Independent   \n",
       "73                       A Serious Man    Drama              Universal   \n",
       "74                  A Dangerous Method    Drama            Independent   \n",
       "75                          27 Dresses   Comedy                    Fox   \n",
       "76                (500) Days of Summer   comedy                    Fox   \n",
       "\n",
       "    Audience score %  Profitability  Rotten Tomatoes % Worldwide Gross  Year  \n",
       "0                 70       1.747542                 64         $41.94   2008  \n",
       "1                 52       1.090000                 68         $19.62   2010  \n",
       "2                 35       1.211818                 43         $26.66   2010  \n",
       "3                 44       0.000000                 15         $43.04   2010  \n",
       "4                 72       6.267647                 28        $219.37   2008  \n",
       "..               ...            ...                ...             ...   ...  \n",
       "72                84       0.652603                 54         $29.37   2007  \n",
       "73                64       4.382857                 89         $30.68   2009  \n",
       "74                89       0.448645                 79          $8.97   2011  \n",
       "75                71       5.343622                 40        $160.31   2008  \n",
       "76                81       8.096000                 87         $60.72   2009  \n",
       "\n",
       "[77 rows x 8 columns]>"
      ]
     },
     "execution_count": 32,
     "metadata": {},
     "output_type": "execute_result"
    }
   ],
   "source": [
    "movies.tail"
   ]
  },
  {
   "cell_type": "code",
   "execution_count": null,
   "metadata": {},
   "outputs": [],
   "source": [
    "movies.sample()"
   ]
  },
  {
   "cell_type": "code",
   "execution_count": 24,
   "metadata": {},
   "outputs": [
    {
     "data": {
      "text/html": [
       "<div>\n",
       "<style scoped>\n",
       "    .dataframe tbody tr th:only-of-type {\n",
       "        vertical-align: middle;\n",
       "    }\n",
       "\n",
       "    .dataframe tbody tr th {\n",
       "        vertical-align: top;\n",
       "    }\n",
       "\n",
       "    .dataframe thead th {\n",
       "        text-align: right;\n",
       "    }\n",
       "</style>\n",
       "<table border=\"1\" class=\"dataframe\">\n",
       "  <thead>\n",
       "    <tr style=\"text-align: right;\">\n",
       "      <th></th>\n",
       "      <th>Film</th>\n",
       "      <th>Genre</th>\n",
       "      <th>Lead Studio</th>\n",
       "      <th>Audience score %</th>\n",
       "      <th>Profitability</th>\n",
       "      <th>Rotten Tomatoes %</th>\n",
       "      <th>Worldwide Gross</th>\n",
       "      <th>Year</th>\n",
       "    </tr>\n",
       "  </thead>\n",
       "  <tbody>\n",
       "    <tr>\n",
       "      <th>52</th>\n",
       "      <td>Letters to Juliet</td>\n",
       "      <td>Comedy</td>\n",
       "      <td>Summit</td>\n",
       "      <td>62</td>\n",
       "      <td>2.639333</td>\n",
       "      <td>40</td>\n",
       "      <td>$79.18</td>\n",
       "      <td>2010</td>\n",
       "    </tr>\n",
       "    <tr>\n",
       "      <th>44</th>\n",
       "      <td>Marley and Me</td>\n",
       "      <td>Comedy</td>\n",
       "      <td>Fox</td>\n",
       "      <td>77</td>\n",
       "      <td>3.746782</td>\n",
       "      <td>63</td>\n",
       "      <td>$206.07</td>\n",
       "      <td>2008</td>\n",
       "    </tr>\n",
       "    <tr>\n",
       "      <th>64</th>\n",
       "      <td>Gnomeo and Juliet</td>\n",
       "      <td>Animation</td>\n",
       "      <td>Disney</td>\n",
       "      <td>52</td>\n",
       "      <td>5.387972</td>\n",
       "      <td>56</td>\n",
       "      <td>$193.97</td>\n",
       "      <td>2011</td>\n",
       "    </tr>\n",
       "    <tr>\n",
       "      <th>75</th>\n",
       "      <td>27 Dresses</td>\n",
       "      <td>Comedy</td>\n",
       "      <td>Fox</td>\n",
       "      <td>71</td>\n",
       "      <td>5.343622</td>\n",
       "      <td>40</td>\n",
       "      <td>$160.31</td>\n",
       "      <td>2008</td>\n",
       "    </tr>\n",
       "    <tr>\n",
       "      <th>41</th>\n",
       "      <td>Monte Carlo</td>\n",
       "      <td>Romance</td>\n",
       "      <td>20th Century Fox</td>\n",
       "      <td>50</td>\n",
       "      <td>1.983200</td>\n",
       "      <td>38</td>\n",
       "      <td>$39.66</td>\n",
       "      <td>2011</td>\n",
       "    </tr>\n",
       "  </tbody>\n",
       "</table>\n",
       "</div>"
      ],
      "text/plain": [
       "                 Film      Genre       Lead Studio  Audience score %   \n",
       "52  Letters to Juliet     Comedy            Summit                62  \\\n",
       "44      Marley and Me     Comedy               Fox                77   \n",
       "64  Gnomeo and Juliet  Animation            Disney                52   \n",
       "75         27 Dresses     Comedy               Fox                71   \n",
       "41        Monte Carlo    Romance  20th Century Fox                50   \n",
       "\n",
       "    Profitability  Rotten Tomatoes % Worldwide Gross  Year  \n",
       "52       2.639333                 40         $79.18   2010  \n",
       "44       3.746782                 63        $206.07   2008  \n",
       "64       5.387972                 56        $193.97   2011  \n",
       "75       5.343622                 40        $160.31   2008  \n",
       "41       1.983200                 38         $39.66   2011  "
      ]
     },
     "execution_count": 24,
     "metadata": {},
     "output_type": "execute_result"
    }
   ],
   "source": [
    "movies.sample(5)"
   ]
  },
  {
   "cell_type": "code",
   "execution_count": null,
   "metadata": {},
   "outputs": [],
   "source": [
    "movies.index"
   ]
  },
  {
   "cell_type": "code",
   "execution_count": 36,
   "metadata": {},
   "outputs": [
    {
     "data": {
      "text/plain": [
       "Film                                 Genre      Lead Studio            Audience score %  Profitability  Rotten Tomatoes %  Worldwide Gross  Year\n",
       "Mamma Mia!                           Comedy     Universal              76                9.234454       53                 $609.47          2008    2\n",
       "Gnomeo and Juliet                    Animation  Disney                 52                5.387972       56                 $193.97          2011    2\n",
       "Sex and the City 2                   Comedy     Warner Bros.           49                2.883500       15                 $288.35          2010    1\n",
       "The Curious Case of Benjamin Button  Fantasy    Warner Bros.           81                1.783944       73                 $285.43          2008    1\n",
       "The Back-up Plan                     Comedy     CBS                    47                2.202571       20                 $77.09           2010    1\n",
       "                                                                                                                                                   ..\n",
       "Life as We Know It                   Comedy     Independent            62                2.530526       28                 $96.16           2010    1\n",
       "License to Wed                       Comedy     Warner Bros.           55                1.980206       8                  $69.31           2007    1\n",
       "Letters to Juliet                    Comedy     Summit                 62                2.639333       40                 $79.18           2010    1\n",
       "Leap Year                            Comedy     Universal              49                1.715263       21                 $32.59           2010    1\n",
       "Zack and Miri Make a Porno           Romance    The Weinstein Company  70                1.747542       64                 $41.94           2008    1\n",
       "Name: count, Length: 75, dtype: int64"
      ]
     },
     "execution_count": 36,
     "metadata": {},
     "output_type": "execute_result"
    }
   ],
   "source": [
    "movies.value_counts()"
   ]
  },
  {
   "cell_type": "code",
   "execution_count": null,
   "metadata": {},
   "outputs": [],
   "source": [
    "movies.values"
   ]
  },
  {
   "cell_type": "code",
   "execution_count": 22,
   "metadata": {},
   "outputs": [
    {
     "data": {
      "text/plain": [
       "Film                 0\n",
       "Genre                0\n",
       "Lead Studio          0\n",
       "Audience score %     0\n",
       "Profitability        0\n",
       "Rotten Tomatoes %    0\n",
       "Worldwide Gross      0\n",
       "Year                 0\n",
       "dtype: int64"
      ]
     },
     "execution_count": 22,
     "metadata": {},
     "output_type": "execute_result"
    }
   ],
   "source": [
    "# Бачимо, що немає жодних пустих значень\n",
    "\n",
    "movies.isna().sum()"
   ]
  },
  {
   "cell_type": "code",
   "execution_count": 23,
   "metadata": {},
   "outputs": [
    {
     "data": {
      "text/plain": [
       "2"
      ]
     },
     "execution_count": 23,
     "metadata": {},
     "output_type": "execute_result"
    }
   ],
   "source": [
    "# Бачимо, що в таблиці є 2 дублікати\n",
    "\n",
    "movies.duplicated().sum()"
   ]
  },
  {
   "cell_type": "code",
   "execution_count": 25,
   "metadata": {},
   "outputs": [
    {
     "data": {
      "text/plain": [
       "Year\n",
       "2008    20\n",
       "2010    20\n",
       "2011    14\n",
       "2009    12\n",
       "2007    11\n",
       "Name: count, dtype: int64"
      ]
     },
     "execution_count": 25,
     "metadata": {},
     "output_type": "execute_result"
    }
   ],
   "source": [
    "# Тут ми бачимо скільки фільмів було створено кожного року (найбільше у 2008 та 2010 роках)\n",
    "\n",
    "movies['Year'].value_counts()"
   ]
  },
  {
   "cell_type": "code",
   "execution_count": 30,
   "metadata": {},
   "outputs": [
    {
     "data": {
      "text/plain": [
       "Genre\n",
       "Comedy       41\n",
       "Romance      13\n",
       "Drama        13\n",
       "Animation     4\n",
       "Fantasy       1\n",
       "Romence       1\n",
       "Comdy         1\n",
       "Action        1\n",
       "romance       1\n",
       "comedy        1\n",
       "Name: count, dtype: int64"
      ]
     },
     "execution_count": 30,
     "metadata": {},
     "output_type": "execute_result"
    }
   ],
   "source": [
    "# Тут ми бачимо, скільки фільмів було відзнято по кожному жанру (комедій набагато більше)\n",
    "# Також видно, що деякі однакові жанри записані по-різному (Comedy-Comdy-comedy; Romance-romance-Romence)\n",
    "# Для того, щоб мати точні данні та користуватися ними для статистики, ми можемо виправити цю помилку!\n",
    "\n",
    "movies['Genre'].value_counts()"
   ]
  },
  {
   "cell_type": "code",
   "execution_count": 32,
   "metadata": {},
   "outputs": [
    {
     "data": {
      "image/png": "[encoded data removed]",
      "text/plain": [
       "<Figure size 640x480 with 1 Axes>"
      ]
     },
     "metadata": {},
     "output_type": "display_data"
    }
   ],
   "source": [
    "# Отримали такі ж дані, що і з кодом вище, але у вигляді графіку\n",
    "\n",
    "sns.set_style('whitegrid')\n",
    "sns.countplot(x = 'Genre', data = movies);"
   ]
  },
  {
   "cell_type": "code",
   "execution_count": 4,
   "metadata": {},
   "outputs": [],
   "source": [
    "mov = {\"Romence\" : 'Romance', \"romance\" : 'Romance', \"Comdy\": 'Comedy', \"comedy\" : 'Comedy'}\n",
    "movies2=movies.replace({\"Genre\": mov})"
   ]
  },
  {
   "cell_type": "code",
   "execution_count": 5,
   "metadata": {},
   "outputs": [
    {
     "data": {
      "text/plain": [
       "Genre\n",
       "Comedy       43\n",
       "Romance      15\n",
       "Drama        13\n",
       "Animation     4\n",
       "Fantasy       1\n",
       "Action        1\n",
       "Name: count, dtype: int64"
      ]
     },
     "execution_count": 5,
     "metadata": {},
     "output_type": "execute_result"
    }
   ],
   "source": [
    "# Зараз можемо зручно та спокійно користуватися данними для аналізу\n",
    "\n",
    "movies2['Genre'].value_counts()"
   ]
  },
  {
   "cell_type": "code",
   "execution_count": 7,
   "metadata": {},
   "outputs": [
    {
     "data": {
      "image/png": "[encoded data removed]",
      "text/plain": [
       "<Figure size 640x480 with 1 Axes>"
      ]
     },
     "metadata": {},
     "output_type": "display_data"
    }
   ],
   "source": [
    "# Бачимо, що Fantasy має найбільший відсоток від глядачів\n",
    "\n",
    "sns.barplot(x='Genre', y='Audience score %', data= movies2)\n",
    "plt.ylabel(\"Audience score \")\n",
    "plt.title(\"Score\")\n",
    "plt.show()"
   ]
  },
  {
   "cell_type": "code",
   "execution_count": 8,
   "metadata": {},
   "outputs": [
    {
     "name": "stdout",
     "output_type": "stream",
     "text": [
      "                  Film      Genre  Lead Studio  Audience score %   \n",
      "6               WALL-E  Animation       Disney                89  \\\n",
      "74  A Dangerous Method      Drama  Independent                89   \n",
      "\n",
      "    Profitability  Rotten Tomatoes % Worldwide Gross  Year  \n",
      "6        2.896019                 96        $521.28   2008  \n",
      "74       0.448645                 79          $8.97   2011  \n"
     ]
    }
   ],
   "source": [
    "# Хоча,найбільш популярним жінром є Fantasy, більше всього відсотків отримали фільми у жанрі Animation and Drama\n",
    "\n",
    "best_movie = movies2[(movies2['Audience score %'] == movies2['Audience score %'].max())]\n",
    "print(best_movie)"
   ]
  },
  {
   "cell_type": "code",
   "execution_count": 9,
   "metadata": {},
   "outputs": [
    {
     "data": {
      "image/png": "[encoded data removed]",
      "text/plain": [
       "<Figure size 2000x400 with 1 Axes>"
      ]
     },
     "metadata": {},
     "output_type": "display_data"
    }
   ],
   "source": [
    "# Завдяки цьому графіку ми бачимо, яка компанія відзняла найбільше фільмів (це Independent)\n",
    "\n",
    "sns.set_style('whitegrid')\n",
    "plt.figure(figsize=(20,4))\n",
    "sns.countplot(x = 'Lead Studio', data = movies2);"
   ]
  },
  {
   "cell_type": "code",
   "execution_count": 10,
   "metadata": {},
   "outputs": [
    {
     "data": {
      "text/plain": [
       "Lead Studio\n",
       "Independent              19\n",
       "Warner Bros.             14\n",
       "Disney                    8\n",
       "Universal                 8\n",
       "Fox                       6\n",
       "Summit                    5\n",
       "Paramount                 4\n",
       "Sony                      4\n",
       "The Weinstein Company     3\n",
       "20th Century Fox          2\n",
       "Lionsgate                 2\n",
       "CBS                       1\n",
       "New Line                  1\n",
       "Name: count, dtype: int64"
      ]
     },
     "execution_count": 10,
     "metadata": {},
     "output_type": "execute_result"
    }
   ],
   "source": [
    "movies2['Lead Studio'].value_counts(sort=True)"
   ]
  },
  {
   "cell_type": "code",
   "execution_count": 8,
   "metadata": {},
   "outputs": [
    {
     "name": "stdout",
     "output_type": "stream",
     "text": [
      "Genre    Lead Studio\n",
      "Comedy   Independent    7\n",
      "Drama    Independent    4\n",
      "Romance  Independent    8\n",
      "Name: Genre, dtype: int64\n"
     ]
    }
   ],
   "source": [
    "# За допомогою данного коду ми можемо побачити скільки фільмів у кожному жанрі розробила студія Independent \n",
    "\n",
    "ind_movies = movies2[movies2['Lead Studio'] == 'Independent']\n",
    "print(ind_movies.groupby(['Genre','Lead Studio'])['Genre'].count())"
   ]
  },
  {
   "cell_type": "code",
   "execution_count": 34,
   "metadata": {},
   "outputs": [
    {
     "data": {
      "text/plain": [
       "75"
      ]
     },
     "execution_count": 34,
     "metadata": {},
     "output_type": "execute_result"
    }
   ],
   "source": [
    "# 4. Сколько всего фильмов в наборе данных?\n",
    "\n",
    "movies['Film'].nunique()\n",
    "\n",
    "# данний код показує, що усього 75 фільмів у наборі даних"
   ]
  },
  {
   "cell_type": "code",
   "execution_count": 35,
   "metadata": {},
   "outputs": [
    {
     "name": "stdout",
     "output_type": "stream",
     "text": [
      "Year\n",
      "2008    20\n",
      "2010    20\n",
      "2011    14\n",
      "2009    12\n",
      "2007    11\n",
      "Name: count, dtype: int64\n"
     ]
    }
   ],
   "source": [
    "# 5. Сколько фильмов содержится в наборе данных за каждый год?\n",
    "\n",
    "amount_movies = movies['Year'].value_counts()\n",
    "print(amount_movies)"
   ]
  },
  {
   "cell_type": "code",
   "execution_count": 36,
   "metadata": {},
   "outputs": [
    {
     "name": "stdout",
     "output_type": "stream",
     "text": [
      "                   Film    Genre  Lead Studio  Audience score %   \n",
      "8   Waiting For Forever  Romance  Independent                53  \\\n",
      "50   Life as We Know It   Comedy  Independent                62   \n",
      "\n",
      "    Profitability  Rotten Tomatoes % Worldwide Gross  Year  \n",
      "8        0.005000                  6          $0.03   2011  \n",
      "50       2.530526                 28         $96.16   2010  \n"
     ]
    }
   ],
   "source": [
    "# 6. Покажите подробную информацию о наименее и наиболее прибыльных\n",
    "# фильмах в наборе данных\n",
    "\n",
    "profitability = movies[(movies['Worldwide Gross'] == movies['Worldwide Gross'].min()) | (movies['Worldwide Gross'] == movies['Worldwide Gross'].max())]\n",
    "print(profitability)"
   ]
  },
  {
   "cell_type": "code",
   "execution_count": 3,
   "metadata": {},
   "outputs": [
    {
     "data": {
      "text/plain": [
       "Genre\n",
       "Comedy       41\n",
       "Romance      13\n",
       "Drama        13\n",
       "Animation     4\n",
       "Fantasy       1\n",
       "Romence       1\n",
       "Comdy         1\n",
       "Action        1\n",
       "romance       1\n",
       "comedy        1\n",
       "Name: count, dtype: int64"
      ]
     },
     "execution_count": 3,
     "metadata": {},
     "output_type": "execute_result"
    }
   ],
   "source": [
    "# 7. Значение «Жанр» временами кажется непоследовательным; попробуйте найти\n",
    "# эти несоответствия и исправить их.\n",
    "\n",
    "''' Бачимо, що справді деякі однакові жанри записані по-різному (Comedy-Comdy-comedy; Romance-romance-Romence)\n",
    "Але таких данних небагато, тому вони не завадять нам зрозуміти більш менш чітку ститистику у майбутньому, якщо ми їх видалимо!\n",
    "\n",
    "Спочатку я пропишу код для видалення цих данних з дата-сету, а потім пропишу ще один варінт, як виправити цю помилку \n",
    "(просто зроблю replace на неправильно прописані жанри). Таким чином ми маємо 2 вариінти для вирішення цієї проблеми '''\n",
    "\n",
    "movies['Genre'].value_counts()"
   ]
  },
  {
   "cell_type": "code",
   "execution_count": 37,
   "metadata": {},
   "outputs": [
    {
     "name": "stdout",
     "output_type": "stream",
     "text": [
      "Index([43], dtype='int64')\n"
     ]
    }
   ],
   "source": [
    "# Знаходимо індекс потрібних нам строк, щоб надалі видалити їх з дата-сету (дублікатні, неправильно прописані типи жанрів)\n",
    "\n",
    "ind = movies[movies['Genre'] == 'Romence'].index\n",
    "print(ind)"
   ]
  },
  {
   "cell_type": "code",
   "execution_count": 38,
   "metadata": {},
   "outputs": [
    {
     "name": "stdout",
     "output_type": "stream",
     "text": [
      "Index([72], dtype='int64')\n"
     ]
    }
   ],
   "source": [
    "ind = movies[movies['Genre'] == 'romance'].index\n",
    "print(ind)"
   ]
  },
  {
   "cell_type": "code",
   "execution_count": 39,
   "metadata": {},
   "outputs": [
    {
     "name": "stdout",
     "output_type": "stream",
     "text": [
      "Index([47], dtype='int64')\n"
     ]
    }
   ],
   "source": [
    "ind = movies[movies['Genre'] == 'Comdy'].index\n",
    "print(ind)"
   ]
  },
  {
   "cell_type": "code",
   "execution_count": 40,
   "metadata": {},
   "outputs": [
    {
     "name": "stdout",
     "output_type": "stream",
     "text": [
      "Index([76], dtype='int64')\n"
     ]
    }
   ],
   "source": [
    "ind = movies[movies['Genre'] == 'comedy'].index\n",
    "print(ind)"
   ]
  },
  {
   "cell_type": "code",
   "execution_count": 41,
   "metadata": {},
   "outputs": [],
   "source": [
    "# Видаляємо за допомогою знайдених індексів 4 неправильно прописаних жанрів\n",
    "\n",
    "movies_new = movies.drop([43, 72, 47, 76])"
   ]
  },
  {
   "cell_type": "code",
   "execution_count": 42,
   "metadata": {},
   "outputs": [
    {
     "data": {
      "text/plain": [
       "Genre\n",
       "Comedy       41\n",
       "Romance      13\n",
       "Drama        13\n",
       "Animation     4\n",
       "Fantasy       1\n",
       "Action        1\n",
       "Name: count, dtype: int64"
      ]
     },
     "execution_count": 42,
     "metadata": {},
     "output_type": "execute_result"
    }
   ],
   "source": [
    "# Після видалення, ми бачимо, що дублікатні, невірно прописані види жанрів зникли з дата-сету\n",
    "\n",
    "movies_new['Genre'].value_counts()"
   ]
  },
  {
   "cell_type": "code",
   "execution_count": null,
   "metadata": {},
   "outputs": [],
   "source": [
    "''' Тепер я пропишу варінт REPLACE цих рядків, щоб не роботи видалення даних, оскільки це не є дійсно правильним\n",
    "рішенням '''"
   ]
  },
  {
   "cell_type": "code",
   "execution_count": 43,
   "metadata": {},
   "outputs": [
    {
     "data": {
      "text/plain": [
       "Genre\n",
       "Comedy       41\n",
       "Romance      13\n",
       "Drama        13\n",
       "Animation     4\n",
       "Fantasy       1\n",
       "Romence       1\n",
       "Comdy         1\n",
       "Action        1\n",
       "romance       1\n",
       "comedy        1\n",
       "Name: count, dtype: int64"
      ]
     },
     "execution_count": 43,
     "metadata": {},
     "output_type": "execute_result"
    }
   ],
   "source": [
    "movies['Genre'].value_counts()"
   ]
  },
  {
   "cell_type": "code",
   "execution_count": 44,
   "metadata": {},
   "outputs": [],
   "source": [
    "mov = {\"Romence\" : 'Romance', \"romance\" : 'Romance', \"Comdy\": 'Comedy', \"comedy\" : 'Comedy'}\n",
    "movies2=movies.replace({\"Genre\": mov})"
   ]
  },
  {
   "cell_type": "code",
   "execution_count": 45,
   "metadata": {},
   "outputs": [
    {
     "data": {
      "text/plain": [
       "Genre\n",
       "Comedy       43\n",
       "Romance      15\n",
       "Drama        13\n",
       "Animation     4\n",
       "Fantasy       1\n",
       "Action        1\n",
       "Name: count, dtype: int64"
      ]
     },
     "execution_count": 45,
     "metadata": {},
     "output_type": "execute_result"
    }
   ],
   "source": [
    "# Ми бачимо, що вже немає невірно написанх жанрів у дата-сеті! Все прописано коректно, помилка виправлена \n",
    "\n",
    "movies2['Genre'].value_counts()"
   ]
  },
  {
   "cell_type": "code",
   "execution_count": 46,
   "metadata": {},
   "outputs": [],
   "source": [
    "# 8. Сохраните (в новый файл CSV) 10 лучших комедий по количеству зрителей;\n",
    "# покажите только название фильма, год и студию \n",
    "\n",
    "\n",
    "df_top10 = movies.nlargest(10, ['Audience score %'])[['Film', 'Lead Studio', 'Year']]\n",
    "df_top10.to_csv('best_comedies.csv', index=False)"
   ]
  },
  {
   "cell_type": "code",
   "execution_count": 47,
   "metadata": {},
   "outputs": [
    {
     "name": "stdout",
     "output_type": "stream",
     "text": [
      "                                  Film            Lead Studio  Year\n",
      "0                               WALL-E                 Disney  2008\n",
      "1                   A Dangerous Method            Independent  2011\n",
      "2                              Tangled                 Disney  2010\n",
      "3                 My Week with Marilyn  The Weinstein Company  2011\n",
      "4                    Midnight in Paris                   Sony  2011\n",
      "5                  Across the Universe            Independent  2007\n",
      "6                           Knocked Up              Universal  2007\n",
      "7                             Twilight                 Summit  2008\n",
      "8                      P.S. I Love You            Independent  2007\n",
      "9  The Curious Case of Benjamin Button           Warner Bros.  2008\n"
     ]
    }
   ],
   "source": [
    "movies1 = pd.read_csv(r'C:\\Users\\Asus\\Desktop\\PYTHON\\best_comedies.csv')\n",
    "print(movies1)"
   ]
  },
  {
   "cell_type": "code",
   "execution_count": 48,
   "metadata": {},
   "outputs": [
    {
     "name": "stdout",
     "output_type": "stream",
     "text": [
      "Requirement already satisfied: lxml in c:\\users\\asus\\appdata\\local\\programs\\python\\python311\\lib\\site-packages (4.9.2)"
     ]
    },
    {
     "name": "stderr",
     "output_type": "stream",
     "text": [
      "\n",
      "[notice] A new release of pip available: 22.3.1 -> 23.1.2\n",
      "[notice] To update, run: python.exe -m pip install --upgrade pip\n"
     ]
    },
    {
     "name": "stdout",
     "output_type": "stream",
     "text": [
      "\n"
     ]
    }
   ],
   "source": [
    "# 9. Используйте pip для установки двух библиотек: lxml, MySQL-connector-python\n",
    "\n",
    "!pip install lxml"
   ]
  },
  {
   "cell_type": "code",
   "execution_count": 49,
   "metadata": {},
   "outputs": [],
   "source": [
    "import lxml"
   ]
  },
  {
   "cell_type": "code",
   "execution_count": 50,
   "metadata": {},
   "outputs": [
    {
     "name": "stdout",
     "output_type": "stream",
     "text": [
      "Requirement already satisfied: mysql-connector-python in c:\\users\\asus\\appdata\\local\\programs\\python\\python311\\lib\\site-packages (8.0.33)\n",
      "Requirement already satisfied: protobuf<=3.20.3,>=3.11.0 in c:\\users\\asus\\appdata\\local\\programs\\python\\python311\\lib\\site-packages (from mysql-connector-python) (3.20.3)\n",
      "Note: you may need to restart the kernel to use updated packages.\n"
     ]
    },
    {
     "name": "stderr",
     "output_type": "stream",
     "text": [
      "\n",
      "[notice] A new release of pip available: 22.3.1 -> 23.1.2\n",
      "[notice] To update, run: python.exe -m pip install --upgrade pip\n"
     ]
    }
   ],
   "source": [
    "pip install mysql-connector-python"
   ]
  },
  {
   "cell_type": "code",
   "execution_count": 51,
   "metadata": {},
   "outputs": [],
   "source": [
    "import mysql.connector"
   ]
  }
 ],
 "metadata": {
  "kernelspec": {
   "display_name": "Python 3",
   "language": "python",
   "name": "python3"
  },
  "language_info": {
   "codemirror_mode": {
    "name": "ipython",
    "version": 3
   },
   "file_extension": ".py",
   "mimetype": "text/x-python",
   "name": "python",
   "nbconvert_exporter": "python",
   "pygments_lexer": "ipython3",
   "version": "3.11.2"
  },
  "orig_nbformat": 4
 },
 "nbformat": 4,
 "nbformat_minor": 2
}
