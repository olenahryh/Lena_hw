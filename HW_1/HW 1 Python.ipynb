{
 "cells": [
  {
   "cell_type": "code",
   "execution_count": null,
   "metadata": {},
   "outputs": [],
   "source": [
    "''' 1. Запросите у пользователя имя и месячную зарплату в долларах и выведите\n",
    "их годовую зарплату в тысячах долларов.\n",
    "Например: «Мишель», «12345» → «Годовая зарплата Мишель составляет\n",
    "148 тыс. долларов» '''\n",
    "\n",
    "\n",
    "name = input('Enter your name: ')\n",
    "month_salary = input('Enter your month salary: ')\n",
    "salary = int(month_salary) * 12\n",
    "thou = int((salary // 1000))\n",
    "print(thou, 'thousands of dollars') "
   ]
  },
  {
   "cell_type": "code",
   "execution_count": null,
   "metadata": {},
   "outputs": [],
   "source": [
    "''' 2. Запросите целое число и выведите «True», если это четное число в\n",
    "диапазоне от 100 до 999, в противном случае - «False» ''' \n",
    "\n",
    "number = int(input('Enter an integer: '))\n",
    "if number in range(100,1000) and number % 2 == 0:\n",
    "    print('True')\n",
    "else:\n",
    "    print('False') "
   ]
  },
  {
   "cell_type": "code",
   "execution_count": null,
   "metadata": {},
   "outputs": [],
   "source": [
    "''' 3. В качестве входящих данных возьмем целое число; Предположим, что это\n",
    "число от 101 до 999, а его последняя цифра не равна нулю.\n",
    "Выведите обратное число.\n",
    "Например: 256 → 652. '''\n",
    "\n",
    "\n",
    "num = int(input('Enter the number: '))\n",
    "last_digit = int(repr(num)[-1])\n",
    "if num in range(101,1000) and last_digit != 0:\n",
    "    print(str(num)[::-1])\n",
    "else:\n",
    "    print('False')"
   ]
  },
  {
   "cell_type": "code",
   "execution_count": 3,
   "metadata": {},
   "outputs": [
    {
     "ename": "ZeroDivisionError",
     "evalue": "division by zero",
     "output_type": "error",
     "traceback": [
      "\u001b[1;31m---------------------------------------------------------------------------\u001b[0m",
      "\u001b[1;31mZeroDivisionError\u001b[0m                         Traceback (most recent call last)",
      "Cell \u001b[1;32mIn[3], line 18\u001b[0m\n\u001b[0;32m     16\u001b[0m number_diff \u001b[39m=\u001b[39m \u001b[39mabs\u001b[39m(number1 \u001b[39m-\u001b[39m number2)\n\u001b[0;32m     17\u001b[0m number_product \u001b[39m=\u001b[39m number1 \u001b[39m*\u001b[39m number2\n\u001b[1;32m---> 18\u001b[0m division_result \u001b[39m=\u001b[39m number1 \u001b[39m/\u001b[39;49m number2\n\u001b[0;32m     19\u001b[0m remainder_result \u001b[39m=\u001b[39m number1 \u001b[39m%\u001b[39m number2\n\u001b[0;32m     20\u001b[0m \u001b[39mprint\u001b[39m(\u001b[39mf\u001b[39m\u001b[39m'\u001b[39m\u001b[39mThe numbers are: \u001b[39m\u001b[39m{\u001b[39;00mnumber1\u001b[39m}\u001b[39;00m\u001b[39m, \u001b[39m\u001b[39m{\u001b[39;00mnumber2\u001b[39m}\u001b[39;00m\u001b[39m'\u001b[39m)\n",
      "\u001b[1;31mZeroDivisionError\u001b[0m: division by zero"
     ]
    }
   ],
   "source": [
    "# зробила такий варіант, де, якщо перше число менше другого, просто видає помилку, без підрахунків\n",
    "\n",
    "''' 4. Запросите два целых числа и выведите:\n",
    "a. Их сумму\n",
    "b. Их разность\n",
    "c. Произведение\n",
    "d. Результат деления первого на второе\n",
    "e. Остаток от деления первого на второе\n",
    "f. «True», если первое число больше или равно второму, иначе «False». '''\n",
    "\n",
    "\n",
    "number1 = int(input('Enter number 1: '))\n",
    "number2 = int(input('Enter number 2: '))\n",
    "\n",
    "number_sum = number1 + number2\n",
    "number_diff = abs(number1 - number2)\n",
    "number_product = number1 * number2\n",
    "division_result = number1 / number2\n",
    "remainder_result = number1 % number2\n",
    "print(f'The numbers are: {number1}, {number2}')\n",
    "\n",
    "\n",
    "if number1 >= number2:\n",
    "    print(f'''True\n",
    "The sum of the numbers is: {number_sum} \n",
    "\\nThe diff of the numbers is: {number_diff}  \n",
    "\\nThe product of the numbers is: {number_product} \n",
    "\\nThe division result is: {division_result} \n",
    "\\nRemainder result is: {remainder_result}''')\n",
    "else:\n",
    "    print('False')\n"
   ]
  },
  {
   "cell_type": "code",
   "execution_count": 24,
   "metadata": {},
   "outputs": [
    {
     "name": "stdout",
     "output_type": "stream",
     "text": [
      "0\n"
     ]
    },
    {
     "ename": "ZeroDivisionError",
     "evalue": "integer modulo by zero",
     "output_type": "error",
     "traceback": [
      "\u001b[1;31m---------------------------------------------------------------------------\u001b[0m",
      "\u001b[1;31mZeroDivisionError\u001b[0m                         Traceback (most recent call last)",
      "Cell \u001b[1;32mIn[24], line 11\u001b[0m\n\u001b[0;32m      9\u001b[0m \u001b[39mif\u001b[39;00m \u001b[39mZeroDivisionError\u001b[39;00m:\n\u001b[0;32m     10\u001b[0m     \u001b[39mprint\u001b[39m(\u001b[39m0\u001b[39m)\n\u001b[1;32m---> 11\u001b[0m remainder_result \u001b[39m=\u001b[39m number1 \u001b[39m%\u001b[39;49m number2\n\u001b[0;32m     12\u001b[0m \u001b[39mprint\u001b[39m(\u001b[39mf\u001b[39m\u001b[39m'\u001b[39m\u001b[39mThe numbers are: \u001b[39m\u001b[39m{\u001b[39;00mnumber1\u001b[39m}\u001b[39;00m\u001b[39m, \u001b[39m\u001b[39m{\u001b[39;00mnumber2\u001b[39m}\u001b[39;00m\u001b[39m'\u001b[39m)\n\u001b[0;32m     15\u001b[0m \u001b[39mif\u001b[39;00m number1 \u001b[39m>\u001b[39m\u001b[39m=\u001b[39m number2:\n",
      "\u001b[1;31mZeroDivisionError\u001b[0m: integer modulo by zero"
     ]
    }
   ],
   "source": [
    "number1 = int(input('Enter number 1: '))\n",
    "number2 = int(input('Enter number 2: '))\n",
    "\n",
    "number_sum = number1 + number2\n",
    "number_diff = abs(number1 - number2)\n",
    "number_product = number1 * number2\n",
    "def division_result(number1, number2):\n",
    "    return number1 / number2\n",
    "if ZeroDivisionError:\n",
    "    print(0)\n",
    "remainder_result = number1 % number2\n",
    "print(f'The numbers are: {number1}, {number2}')\n",
    "\n",
    "\n",
    "if number1 >= number2:\n",
    "    print(f'''True\n",
    "The sum of the numbers is: {number_sum} \n",
    "\\nThe diff of the numbers is: {number_diff}  \n",
    "\\nThe product of the numbers is: {number_product} \n",
    "\\nThe division result is: {division_result} \n",
    "\\nRemainder result is: {remainder_result}''')\n",
    "else:\n",
    "    print('False')"
   ]
  },
  {
   "cell_type": "code",
   "execution_count": 22,
   "metadata": {},
   "outputs": [
    {
     "ename": "ZeroDivisionError",
     "evalue": "division by zero",
     "output_type": "error",
     "traceback": [
      "\u001b[1;31m---------------------------------------------------------------------------\u001b[0m",
      "\u001b[1;31mZeroDivisionError\u001b[0m                         Traceback (most recent call last)",
      "Cell \u001b[1;32mIn[22], line 7\u001b[0m\n\u001b[0;32m      5\u001b[0m number_diff \u001b[39m=\u001b[39m \u001b[39mabs\u001b[39m(number1 \u001b[39m-\u001b[39m number2)\n\u001b[0;32m      6\u001b[0m number_product \u001b[39m=\u001b[39m number1 \u001b[39m*\u001b[39m number2\n\u001b[1;32m----> 7\u001b[0m division_result \u001b[39m=\u001b[39m number1 \u001b[39m/\u001b[39;49m number2\n\u001b[0;32m      9\u001b[0m \u001b[39mdef\u001b[39;00m \u001b[39mdivision_resul\u001b[39m(number1, number2):\n\u001b[0;32m     10\u001b[0m     \u001b[39mreturn\u001b[39;00m number1\u001b[39m/\u001b[39mnumber2 \u001b[39mif\u001b[39;00m number2 \u001b[39melse\u001b[39;00m \u001b[39m0\u001b[39m\n",
      "\u001b[1;31mZeroDivisionError\u001b[0m: division by zero"
     ]
    }
   ],
   "source": [
    "number1 = int(input('Enter number 1: '))\n",
    "number2 = int(input('Enter number 2: '))\n",
    "\n",
    "number_sum = number1 + number2\n",
    "number_diff = abs(number1 - number2)\n",
    "number_product = number1 * number2\n",
    "division_result = number1 / number2\n",
    "remainder_result = number1 % number2\n",
    "print(f'The numbers are: {number1}, {number2}')\n",
    "\n",
    "\n",
    "if number1 >= number2:\n",
    "    print(f'''True\n",
    "The sum of the numbers is: {number_sum} \n",
    "\\nThe diff of the numbers is: {number_diff}  \n",
    "\\nThe product of the numbers is: {number_product} \n",
    "\\nThe division result is: {division_result} \n",
    "\\nRemainder result is: {remainder_result}''')\n",
    "else:\n",
    "    print('False')"
   ]
  },
  {
   "cell_type": "code",
   "execution_count": 2,
   "metadata": {},
   "outputs": [
    {
     "name": "stdout",
     "output_type": "stream",
     "text": [
      "False\n",
      "The sum of the numbers is: 45 \n",
      "\n",
      "The diff of the numbers is: 5  \n",
      "\n",
      "The product of the numbers is: 500 \n",
      "\n",
      "The division result is: 0.8 \n",
      "\n",
      "Remainder result is: 20\n"
     ]
    }
   ],
   "source": [
    "# зробила такий варіант, де, якщо перше число менше другого, видає помилку, але ще пише підрахунки усі\n",
    "\n",
    "number1 = int(input('Enter number 1: '))\n",
    "number2 = int(input('Enter number 2: '))\n",
    "\n",
    "number_sum = number1 + number2\n",
    "number_diff = abs(number1 - number2)\n",
    "number_product = number1 * number2\n",
    "division_result = number1 / number2\n",
    "remainder_result = number1 % number2\n",
    "\n",
    "print(number1 >= number2)\n",
    "print(f'''The sum of the numbers is: {number_sum} \n",
    "\\nThe diff of the numbers is: {number_diff}  \n",
    "\\nThe product of the numbers is: {number_product} \n",
    "\\nThe division result is: {division_result} \n",
    "\\nRemainder result is: {remainder_result}''')"
   ]
  }
 ],
 "metadata": {
  "kernelspec": {
   "display_name": "Python 3",
   "language": "python",
   "name": "python3"
  },
  "language_info": {
   "codemirror_mode": {
    "name": "ipython",
    "version": 3
   },
   "file_extension": ".py",
   "mimetype": "text/x-python",
   "name": "python",
   "nbconvert_exporter": "python",
   "pygments_lexer": "ipython3",
   "version": "3.11.2"
  },
  "orig_nbformat": 4
 },
 "nbformat": 4,
 "nbformat_minor": 2
}
