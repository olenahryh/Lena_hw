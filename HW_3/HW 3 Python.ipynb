{
 "cells": [
  {
   "cell_type": "code",
   "execution_count": null,
   "metadata": {},
   "outputs": [],
   "source": [
    "# Homework 3"
   ]
  },
  {
   "cell_type": "code",
   "execution_count": 26,
   "metadata": {},
   "outputs": [
    {
     "name": "stdout",
     "output_type": "stream",
     "text": [
      "ПРОФЕССОР БЫЛ ПОСЛЕДОВАТЕЛЬНЫМ! Порог сдачи экзамена находится в диапазоне: 73 - 78 баллов\n"
     ]
    }
   ],
   "source": [
    "grades_students = [84, 78, 65, 90, 72]\n",
    "decision = ['passed', 'passed', 'failed', 'passed', 'failed']\n",
    "\n",
    "\n",
    "\n",
    "def create_class(grades, decisions):\n",
    "    full_class = {}\n",
    "    s = 1\n",
    "    for g, d in zip(grades, decisions):\n",
    "        full_class['student_' + str(s)] = [g,d]\n",
    "        s += 1\n",
    "    return full_class\n",
    "\n",
    "\n",
    "full_class = create_class(grades_students, decision)\n",
    "\n",
    "\n",
    "\n",
    "def teacher(full_class: dict):\n",
    "    grades_pass = []\n",
    "    grades_failed = []\n",
    "    for grade in full_class.values():\n",
    "        if grade[1] == 'passed':\n",
    "            grades_pass.append(grade[0])\n",
    "        elif grade[1] == 'failed':\n",
    "            grades_failed.append(grade[0])\n",
    "\n",
    "    if len(grades_pass) == 0:\n",
    "        return print('НИКТО НЕ СДАЛ')\n",
    "    elif len(grades_failed) == 0:\n",
    "        return print('ВСЕ СДАЛИ')\n",
    "\n",
    "    min_grade_pass = min(grades_pass)\n",
    "    max_grade_failed = max(grades_failed)\n",
    "\n",
    "    if min_grade_pass < max_grade_failed:\n",
    "        return 'ПРОФЕССОР НЕ БЫЛ ПОСЛЕДОВАТЕЛЬНЫМ'\n",
    "    return print(f'ПРОФЕССОР БЫЛ ПОСЛЕДОВАТЕЛЬНЫМ! Порог сдачи экзамена находится в диапазоне: {max_grade_failed + 1} - {min_grade_pass} баллов')\n",
    "\n",
    "\n",
    "teacher(full_class)\n",
    "\n",
    "\n",
    "\n"
   ]
  },
  {
   "cell_type": "code",
   "execution_count": 1,
   "metadata": {},
   "outputs": [
    {
     "data": {
      "text/plain": [
       "'ПРОФЕССОР НЕ БЫЛ ПОСЛЕДОВАТЕЛЬНЫМ'"
      ]
     },
     "execution_count": 1,
     "metadata": {},
     "output_type": "execute_result"
    }
   ],
   "source": [
    "# інший варіант написання коду\n",
    "\n",
    "grades_students = [78, 82, 97, 86, 67, 75]\n",
    "decision = ['failed', 'passed', 'passed', 'passed', 'passed', 'passed']\n",
    "\n",
    "\n",
    "\n",
    "def create_class(grades, decisions):\n",
    "    full_class = {}\n",
    "    s = 1\n",
    "    for g, d in zip(grades, decisions):\n",
    "        full_class['student_' + str(s)] = [g,d]\n",
    "        s += 1\n",
    "    return full_class\n",
    "\n",
    "\n",
    "full_class = create_class(grades_students, decision)\n",
    "\n",
    "\n",
    "def teacher(full_class: dict):\n",
    "    min_grade_pass = [grade[0] for grade in full_class.values() if grade[1] == 'passed']\n",
    "    max_grade_failed = [grade[0] for grade in full_class.values() if grade[1] == 'failed']\n",
    "\n",
    "\n",
    "    if len(min_grade_pass) == 0:\n",
    "        return print('НИКТО НЕ СДАЛ')\n",
    "    elif len(max_grade_failed) == 0:\n",
    "        return print('ВСЕ СДАЛИ')\n",
    "    \n",
    "    min_grade_pass = min(min_grade_pass)\n",
    "    max_grade_failed = max(max_grade_failed)\n",
    "\n",
    "    if min_grade_pass < max_grade_failed:\n",
    "        return 'ПРОФЕССОР НЕ БЫЛ ПОСЛЕДОВАТЕЛЬНЫМ'\n",
    "    return print(f'ПРОФЕССОР БЫЛ ПОСЛЕДОВАТЕЛЬНЫМ! Порог сдачи экзамена находится в диапазоне: {max_grade_failed + 1} - {min_grade_pass} баллов')\n",
    "\n",
    "\n",
    "teacher(full_class)"
   ]
  },
  {
   "cell_type": "code",
   "execution_count": 2,
   "metadata": {},
   "outputs": [
    {
     "data": {
      "text/plain": [
       "'ПРОФЕССОР НЕ БЫЛ ПОСЛЕДОВАТЕЛЬНЫМ'"
      ]
     },
     "execution_count": 2,
     "metadata": {},
     "output_type": "execute_result"
    }
   ],
   "source": [
    "# трішки скоротила першу функцію \"create_class\"\n",
    "\n",
    "grades_students = [78, 82, 97, 86, 67, 75]\n",
    "decision = ['failed', 'passed', 'passed', 'passed', 'passed', 'passed']\n",
    "\n",
    "\n",
    "def create_class(grades, decisions):\n",
    "    full_class = {f'student_{i+1}': [v[0],v[1]] for i, v in enumerate(zip(grades, decisions))}\n",
    "    return full_class\n",
    "\n",
    "full_class = create_class(grades_students, decision)\n",
    "\n",
    "def teacher(full_class: dict):\n",
    "    min_grade_pass = [grade[0] for grade in full_class.values() if grade[1] == 'passed']\n",
    "    max_grade_failed = [grade[0] for grade in full_class.values() if grade[1] == 'failed']\n",
    "\n",
    "\n",
    "    if len(min_grade_pass) == 0:\n",
    "        return print('НИКТО НЕ СДАЛ')\n",
    "    elif len(max_grade_failed) == 0:\n",
    "        return print('ВСЕ СДАЛИ')\n",
    "    \n",
    "    min_grade_pass = min(min_grade_pass)\n",
    "    max_grade_failed = max(max_grade_failed)\n",
    "\n",
    "    if min_grade_pass < max_grade_failed:\n",
    "        return 'ПРОФЕССОР НЕ БЫЛ ПОСЛЕДОВАТЕЛЬНЫМ'\n",
    "    return print(f'ПРОФЕССОР БЫЛ ПОСЛЕДОВАТЕЛЬНЫМ! Порог сдачи экзамена находится в диапазоне: {max_grade_failed + 1} - {min_grade_pass} баллов')\n",
    "\n",
    "\n",
    "teacher(full_class)"
   ]
  }
 ],
 "metadata": {
  "kernelspec": {
   "display_name": "Python 3",
   "language": "python",
   "name": "python3"
  },
  "language_info": {
   "codemirror_mode": {
    "name": "ipython",
    "version": 3
   },
   "file_extension": ".py",
   "mimetype": "text/x-python",
   "name": "python",
   "nbconvert_exporter": "python",
   "pygments_lexer": "ipython3",
   "version": "3.11.2"
  },
  "orig_nbformat": 4
 },
 "nbformat": 4,
 "nbformat_minor": 2
}
