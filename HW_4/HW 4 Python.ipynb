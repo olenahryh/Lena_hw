{
 "cells": [
  {
   "cell_type": "code",
   "execution_count": null,
   "metadata": {},
   "outputs": [],
   "source": [
    "# HW 4 Python"
   ]
  },
  {
   "cell_type": "code",
   "execution_count": null,
   "metadata": {},
   "outputs": [],
   "source": [
    "# Используйте модуль времени, чтобы сравнить производительность\n",
    "# «эффективного» метода поиска простых чисел с простой реализацией (без\n",
    "# перерывов, тестирования по всем числам и т.д.). Проверьте несколько диапазонов\n",
    "# поиска простых чисел (например, до 100, до 1000 и т. д.)"
   ]
  },
  {
   "cell_type": "code",
   "execution_count": 5,
   "metadata": {},
   "outputs": [
    {
     "name": "stdout",
     "output_type": "stream",
     "text": [
      "Time required:  7.179438591003418\n"
     ]
    }
   ],
   "source": [
    "import time\n",
    "\n",
    "def is_prime1(num):\n",
    "    if num == 1:\n",
    "        return False\n",
    "    for i in range (2, num):\n",
    "        if num % i == 0:\n",
    "            return False \n",
    "    return True\n",
    "\n",
    "# for n in range(1,100):        #перевірка, чи код працює\n",
    "#     print(n, is_prime1(n))\n",
    "\n",
    "t0 = time.time()\n",
    "for n in range(1, 50000):\n",
    "    is_prime1(n)\n",
    "t1 = time.time()\n",
    "print('Time required: ', t1-t0)\n",
    "\n",
    "# output: Time required:  7.179438591003418\n",
    "# Код біжить достатньо довго"
   ]
  },
  {
   "cell_type": "code",
   "execution_count": 4,
   "metadata": {},
   "outputs": [
    {
     "name": "stdout",
     "output_type": "stream",
     "text": [
      "Time required:  3.68725848197937\n"
     ]
    }
   ],
   "source": [
    "# код можна зробити ще більш вдосконаленим. \n",
    "# Якщо цифра більше, ніж 2 та парна - вона не може бути prime! Тому первірку можемо робити тільки на НЕпарні цифри\n",
    "\n",
    "import time \n",
    "\n",
    "def is_prime4(num):\n",
    "    if num == 1:\n",
    "        return False\n",
    "    if num == 2:\n",
    "        return True\n",
    "    if num > 2 and num % 2 == 0:\n",
    "        return False\n",
    "    \n",
    "    for i in range (3, num, 2):\n",
    "        if num % i == 0:\n",
    "            return False \n",
    "    return True\n",
    "\n",
    "# for n in range(1,100):        #перевірка, чи код працює\n",
    "#     print(n, is_prime1(n))\n",
    "\n",
    "t0 = time.time()\n",
    "for n in range(1, 50000):\n",
    "    is_prime4(n)\n",
    "t1 = time.time()\n",
    "print('Time required: ', t1-t0)\n",
    "\n",
    "# output: Time required:  3.68725848197937"
   ]
  },
  {
   "cell_type": "code",
   "execution_count": 3,
   "metadata": {},
   "outputs": [
    {
     "name": "stdout",
     "output_type": "stream",
     "text": [
      "Time required:  0.04220747947692871\n"
     ]
    }
   ],
   "source": [
    "# Цей код ще більш поліпшений. \n",
    "# Зменшила кількість дільників в циклі for\n",
    "\n",
    "import time\n",
    "import math\n",
    "\n",
    "def is_prime5(num):\n",
    "    if num == 1:\n",
    "        return False\n",
    "    if num == 2:\n",
    "        return True\n",
    "    if num > 2 and num % 2 == 0:\n",
    "        return False\n",
    "    \n",
    "    max_divisor = math.floor(math.sqrt(num))\n",
    "\n",
    "    for i in range (3, 1 + max_divisor, 2):\n",
    "        if num % i == 0:\n",
    "            return False \n",
    "    return True\n",
    "\n",
    "# for n in range(1,100):        #перевірка, чи код працює\n",
    "#     print(n, is_prime1(n))\n",
    "\n",
    "t0 = time.time()\n",
    "for n in range(1, 50000):\n",
    "    is_prime5(n)\n",
    "t1 = time.time()\n",
    "print('Time required: ', t1-t0)\n",
    "\n",
    "# output: Time required:  0.04220747947692871"
   ]
  }
 ],
 "metadata": {
  "kernelspec": {
   "display_name": "Python 3",
   "language": "python",
   "name": "python3"
  },
  "language_info": {
   "codemirror_mode": {
    "name": "ipython",
    "version": 3
   },
   "file_extension": ".py",
   "mimetype": "text/x-python",
   "name": "python",
   "nbconvert_exporter": "python",
   "pygments_lexer": "ipython3",
   "version": "3.11.2"
  },
  "orig_nbformat": 4
 },
 "nbformat": 4,
 "nbformat_minor": 2
}
