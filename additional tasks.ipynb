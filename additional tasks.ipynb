{
 "cells": [
  {
   "cell_type": "code",
   "execution_count": null,
   "metadata": {},
   "outputs": [],
   "source": [
    "# additional tasks for FRIDAY"
   ]
  },
  {
   "cell_type": "code",
   "execution_count": null,
   "metadata": {},
   "outputs": [],
   "source": [
    "# 1. Вивести всі парні числа від 1 до 100\n",
    "\n",
    "def even_nums_1():\n",
    "    for num in range(1,101):\n",
    "        if num % 2 ==0:\n",
    "            print(num)\n",
    "even_nums_1()"
   ]
  },
  {
   "cell_type": "code",
   "execution_count": 1,
   "metadata": {},
   "outputs": [
    {
     "name": "stdout",
     "output_type": "stream",
     "text": [
      "2\n",
      "4\n",
      "6\n",
      "8\n",
      "10\n",
      "12\n",
      "14\n",
      "16\n",
      "18\n",
      "20\n",
      "22\n",
      "24\n",
      "26\n",
      "28\n",
      "30\n",
      "32\n",
      "34\n",
      "36\n",
      "38\n",
      "40\n",
      "42\n",
      "44\n",
      "46\n",
      "48\n",
      "50\n",
      "52\n",
      "54\n",
      "56\n",
      "58\n",
      "60\n",
      "62\n",
      "64\n",
      "66\n",
      "68\n",
      "70\n",
      "72\n",
      "74\n",
      "76\n",
      "78\n",
      "80\n",
      "82\n",
      "84\n",
      "86\n",
      "88\n",
      "90\n",
      "92\n",
      "94\n",
      "96\n",
      "98\n",
      "100\n"
     ]
    }
   ],
   "source": [
    "# 1. Вивести всі парні числа від 1 до 100\n",
    "\n",
    "def even_nums_2():\n",
    "    num = 1\n",
    "    while num < 101:\n",
    "        if num % 2 == 0:\n",
    "            print(num)\n",
    "        num += 1\n",
    "\n",
    "\n",
    "even_nums_2()"
   ]
  },
  {
   "cell_type": "code",
   "execution_count": null,
   "metadata": {},
   "outputs": [],
   "source": [
    "# 1. Вивести всі парні числа від 1 до 100\n",
    "\n",
    "def even_num_3():\n",
    "    num = 1\n",
    "    while True:\n",
    "        if num % 2 == 0:\n",
    "            print(num)\n",
    "        if num >= 100:\n",
    "            break\n",
    "        num +=1\n",
    "even_num_3()"
   ]
  },
  {
   "cell_type": "code",
   "execution_count": null,
   "metadata": {},
   "outputs": [],
   "source": [
    "def even_nums_1(number):\n",
    "    for num in range(1,number+1):\n",
    "        if num % 2 ==0:\n",
    "            print(num)\n",
    "even_nums_1(105)"
   ]
  },
  {
   "cell_type": "code",
   "execution_count": 3,
   "metadata": {},
   "outputs": [
    {
     "name": "stdout",
     "output_type": "stream",
     "text": [
      "2\n",
      "4\n",
      "6\n",
      "8\n",
      "10\n",
      "12\n",
      "14\n",
      "16\n",
      "18\n",
      "20\n",
      "22\n",
      "24\n",
      "26\n",
      "28\n",
      "30\n",
      "32\n",
      "34\n",
      "36\n",
      "38\n",
      "40\n",
      "42\n",
      "44\n",
      "46\n",
      "48\n",
      "50\n",
      "52\n",
      "54\n",
      "56\n",
      "58\n",
      "60\n",
      "62\n",
      "64\n",
      "66\n",
      "68\n",
      "70\n",
      "72\n",
      "74\n",
      "76\n",
      "78\n",
      "80\n",
      "82\n",
      "84\n",
      "86\n",
      "88\n",
      "90\n",
      "92\n",
      "94\n",
      "96\n",
      "98\n",
      "100\n",
      "102\n",
      "104\n"
     ]
    }
   ],
   "source": [
    "\n",
    "def even_nums_2(number):\n",
    "    num = 1\n",
    "    while num < number + 1:\n",
    "        if num % 2 == 0:\n",
    "            print(num)\n",
    "        num += 1 \n",
    "\n",
    "even_nums_2(105)"
   ]
  },
  {
   "cell_type": "code",
   "execution_count": null,
   "metadata": {},
   "outputs": [],
   "source": [
    "def even_num_3(number):\n",
    "    num = 1\n",
    "    while True:\n",
    "        if num % 2 == 0:\n",
    "            print(num)\n",
    "        if num > number + 1:\n",
    "            break\n",
    "        num +=1 \n",
    "\n",
    "even_num_3(102)"
   ]
  },
  {
   "cell_type": "code",
   "execution_count": null,
   "metadata": {},
   "outputs": [],
   "source": [
    "# 2. Обчислити факторіал заданого числа.\n",
    "\n",
    "def factorial(number):\n",
    "    factorial = 1\n",
    "    if number < 0:\n",
    "        print(\"The factorial does not exist for negative numbers\")\n",
    "    else:\n",
    "        for i in range(1,number + 1):\n",
    "            factorial = factorial*i\n",
    "        print(\"The factorial of\",number,\"is\",factorial)\n",
    "\n",
    "factorial(5)\n"
   ]
  },
  {
   "cell_type": "code",
   "execution_count": null,
   "metadata": {},
   "outputs": [],
   "source": [
    "# 3. Перевірити, чи є задане число простим.\n",
    "\n",
    "def prime_number(number):\n",
    "\n",
    "    if number == 1:     \n",
    "        print(number, \"is not a prime number\")\n",
    "    elif number > 1:\n",
    "        for i in range(2, int(number/2)+1):\n",
    "            if (number % i) == 0:\n",
    "                print(number, \"is not a prime number\")\n",
    "                break\n",
    "        else:\n",
    "            print(number, \"is a prime number\")\n",
    "    else:\n",
    "        print(number, \"is not a prime number\")\n",
    "\n",
    "prime_number(6)"
   ]
  },
  {
   "cell_type": "code",
   "execution_count": null,
   "metadata": {},
   "outputs": [],
   "source": [
    "# 4. Вивести всі числа від 1 до 100, які діляться на 3 або на 5\n",
    "\n",
    "def number_1():\n",
    "    for number in range(1, 101):\n",
    "        if number % 3 == 0 or number % 5 == 0:\n",
    "            print(number)\n",
    "\n",
    "number_1()"
   ]
  },
  {
   "cell_type": "code",
   "execution_count": null,
   "metadata": {},
   "outputs": [],
   "source": [
    "# 5. Знайти суму всіх чисел від 1 до N. N - вводить користувач\n",
    "\n",
    "def find_sum(num): \n",
    "    sum = 0\n",
    "    for i in range(1, num + 1):\n",
    "        sum = sum + i\n",
    "    return sum\n",
    "\n",
    "find_sum(23)"
   ]
  },
  {
   "cell_type": "code",
   "execution_count": null,
   "metadata": {},
   "outputs": [],
   "source": [
    "# 5. Знайти суму всіх чисел від 1 до N. N - вводить користувач\n",
    "\n",
    "def find_sum():\n",
    "    num = int(input('Enter a number: '))\n",
    "    sum = 0\n",
    "    for i in range(1, num + 1):\n",
    "        sum = sum + i\n",
    "    return sum\n",
    "\n",
    "find_sum()"
   ]
  },
  {
   "cell_type": "code",
   "execution_count": null,
   "metadata": {},
   "outputs": [],
   "source": [
    "# 6. Обчислити середнє арифметичне заданого масиву чисел.\n",
    "\n",
    "from statistics import mean \n",
    "\n",
    "def calculator(*args):\n",
    "    print(\"mean of arr : \", mean(args))\n",
    "    \n",
    "calculator(10,25,36)\n"
   ]
  },
  {
   "cell_type": "code",
   "execution_count": null,
   "metadata": {},
   "outputs": [],
   "source": [
    "# 6. Обчислити середнє арифметичне заданого масиву чисел.\n",
    "\n",
    "def calculator(numbers: list):\n",
    "    num_of_numbers = len(numbers)\n",
    "    sum = 0\n",
    "    for num in numbers:\n",
    "        sum = sum + num\n",
    "    return sum / num_of_numbers  \n",
    "\n",
    "\n",
    "print(calculator([10, 25, 36]))"
   ]
  },
  {
   "cell_type": "code",
   "execution_count": null,
   "metadata": {},
   "outputs": [],
   "source": [
    "# 7. Підрахувати кількість входжень заданого елемента у масив.\n",
    "\n",
    "def count_occurrences(x, numbers: list):\n",
    "    count = 0\n",
    "    for i in numbers:\n",
    "        if (i == x):\n",
    "            count = count + 1\n",
    "    return print(f'{x} has occured {count} times')\n",
    "\n",
    "\n",
    "count_occurrences(2, [3,2,2,2,2])"
   ]
  }
 ],
 "metadata": {
  "kernelspec": {
   "display_name": "Python 3",
   "language": "python",
   "name": "python3"
  },
  "language_info": {
   "codemirror_mode": {
    "name": "ipython",
    "version": 3
   },
   "file_extension": ".py",
   "mimetype": "text/x-python",
   "name": "python",
   "nbconvert_exporter": "python",
   "pygments_lexer": "ipython3",
   "version": "3.11.2"
  },
  "orig_nbformat": 4
 },
 "nbformat": 4,
 "nbformat_minor": 2
}
